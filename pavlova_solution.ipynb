{
  "nbformat": 4,
  "nbformat_minor": 0,
  "metadata": {
    "colab": {
      "name": "Untitled0.ipynb",
      "provenance": [],
      "collapsed_sections": [],
      "authorship_tag": "ABX9TyMsp1qrIpjLXGb1hh0pNoSJ",
      "include_colab_link": true
    },
    "kernelspec": {
      "name": "python3",
      "display_name": "Python 3"
    },
    "language_info": {
      "name": "python"
    }
  },
  "cells": [
    {
      "cell_type": "markdown",
      "metadata": {
        "id": "view-in-github",
        "colab_type": "text"
      },
      "source": [
        "<a href=\"https://colab.research.google.com/github/PAlena/SQL/blob/main/pavlova_solution.ipynb\" target=\"_parent\"><img src=\"https://colab.research.google.com/assets/colab-badge.svg\" alt=\"Open In Colab\"/></a>"
      ]
    },
    {
      "cell_type": "code",
      "execution_count": 224,
      "metadata": {
        "id": "QLuCN-_o0Q71"
      },
      "outputs": [],
      "source": [
        "import pandas as pd\n",
        "import numpy as np\n",
        "import tensorflow as tf\n",
        "import matplotlib.pyplot as plt \n",
        "import statistics\n",
        "from sklearn.linear_model import LinearRegression\n",
        "from sklearn.model_selection import train_test_split\n",
        "#!pip install catboost\n",
        "from catboost import Pool\n",
        "from catboost import CatBoostClassifier\n",
        "from catboost import Pool\n",
        "from sklearn.metrics import confusion_matrix, recall_score, mean_squared_error, accuracy_score, roc_auc_score, f1_score, log_loss\n",
        "from catboost.utils import select_threshold\n",
        "import matplotlib.pyplot as plt\n",
        "from catboost.utils import get_roc_curve\n",
        "from catboost.utils import get_fpr_curve\n",
        "from catboost.utils import get_fnr_curve"
      ]
    },
    {
      "cell_type": "markdown",
      "source": [
        "# Data preparation"
      ],
      "metadata": {
        "id": "KStz-woB_8pB"
      }
    },
    {
      "cell_type": "code",
      "source": [
        "testbattles = pd.read_csv('testbattles.csv')\n",
        "testplayers = pd.read_csv('testplayers.csv')\n",
        "trainbattles = pd.read_csv('trainbattles.csv')\n",
        "trainplayers = pd.read_csv('trainplayers.csv')\n",
        "\n",
        "train = trainbattles.merge(trainplayers, on=\"player_id\")\n",
        "test = testbattles.merge(testplayers, on=\"player_id\")"
      ],
      "metadata": {
        "id": "k5oZbE4nWNjO"
      },
      "execution_count": 783,
      "outputs": []
    },
    {
      "cell_type": "code",
      "source": [
        "print(\"Missing values at train data set:{}\".format(train.isnull().sum().sum()))\n",
        "print(\"Missing values at test data set:{}\".format(test.isnull().sum().sum()))\n"
      ],
      "metadata": {
        "colab": {
          "base_uri": "https://localhost:8080/"
        },
        "id": "15RCK5iWAA3O",
        "outputId": "82b5cbf4-adcc-4df1-f7de-205b69af5c2f"
      },
      "execution_count": 3,
      "outputs": [
        {
          "output_type": "stream",
          "name": "stdout",
          "text": [
            "Missing values at train data set:0\n",
            "Missing values at test data set:0\n"
          ]
        }
      ]
    },
    {
      "cell_type": "code",
      "source": [
        "train.describe().applymap(lambda x: f\"{x:0.2f}\")"
      ],
      "metadata": {
        "colab": {
          "base_uri": "https://localhost:8080/",
          "height": 349
        },
        "id": "jhrKQ67UE-AN",
        "outputId": "f3b1dc68-d54a-4fd3-98d5-58049821e5b9"
      },
      "execution_count": 23,
      "outputs": [
        {
          "output_type": "execute_result",
          "data": {
            "text/html": [
              "\n",
              "  <div id=\"df-41c20641-1b2c-43c6-b687-d1b698b4bc3d\">\n",
              "    <div class=\"colab-df-container\">\n",
              "      <div>\n",
              "<style scoped>\n",
              "    .dataframe tbody tr th:only-of-type {\n",
              "        vertical-align: middle;\n",
              "    }\n",
              "\n",
              "    .dataframe tbody tr th {\n",
              "        vertical-align: top;\n",
              "    }\n",
              "\n",
              "    .dataframe thead th {\n",
              "        text-align: right;\n",
              "    }\n",
              "</style>\n",
              "<table border=\"1\" class=\"dataframe\">\n",
              "  <thead>\n",
              "    <tr style=\"text-align: right;\">\n",
              "      <th></th>\n",
              "      <th>player_id</th>\n",
              "      <th>battle_seq_num</th>\n",
              "      <th>damage_dealt</th>\n",
              "      <th>damage_received</th>\n",
              "      <th>kills_made</th>\n",
              "      <th>xp</th>\n",
              "      <th>shots</th>\n",
              "      <th>successful_shots</th>\n",
              "      <th>mileage</th>\n",
              "      <th>is_winner</th>\n",
              "      <th>survived</th>\n",
              "      <th>battle_level</th>\n",
              "      <th>is_tier_ten</th>\n",
              "    </tr>\n",
              "  </thead>\n",
              "  <tbody>\n",
              "    <tr>\n",
              "      <th>count</th>\n",
              "      <td>800000.00</td>\n",
              "      <td>800000.00</td>\n",
              "      <td>800000.00</td>\n",
              "      <td>800000.00</td>\n",
              "      <td>800000.00</td>\n",
              "      <td>800000.00</td>\n",
              "      <td>800000.00</td>\n",
              "      <td>800000.00</td>\n",
              "      <td>800000.00</td>\n",
              "      <td>800000.00</td>\n",
              "      <td>800000.00</td>\n",
              "      <td>800000.00</td>\n",
              "      <td>800000.00</td>\n",
              "    </tr>\n",
              "    <tr>\n",
              "      <th>mean</th>\n",
              "      <td>5177.43</td>\n",
              "      <td>50.35</td>\n",
              "      <td>229.34</td>\n",
              "      <td>327.23</td>\n",
              "      <td>0.58</td>\n",
              "      <td>418.28</td>\n",
              "      <td>5.50</td>\n",
              "      <td>3.28</td>\n",
              "      <td>897.30</td>\n",
              "      <td>0.45</td>\n",
              "      <td>0.23</td>\n",
              "      <td>4.13</td>\n",
              "      <td>0.46</td>\n",
              "    </tr>\n",
              "    <tr>\n",
              "      <th>std</th>\n",
              "      <td>2996.88</td>\n",
              "      <td>28.86</td>\n",
              "      <td>360.58</td>\n",
              "      <td>305.62</td>\n",
              "      <td>1.05</td>\n",
              "      <td>576.23</td>\n",
              "      <td>11.29</td>\n",
              "      <td>6.78</td>\n",
              "      <td>596.93</td>\n",
              "      <td>0.50</td>\n",
              "      <td>0.42</td>\n",
              "      <td>1.86</td>\n",
              "      <td>0.50</td>\n",
              "    </tr>\n",
              "    <tr>\n",
              "      <th>min</th>\n",
              "      <td>2.00</td>\n",
              "      <td>1.00</td>\n",
              "      <td>0.00</td>\n",
              "      <td>0.00</td>\n",
              "      <td>0.00</td>\n",
              "      <td>0.00</td>\n",
              "      <td>0.00</td>\n",
              "      <td>0.00</td>\n",
              "      <td>0.00</td>\n",
              "      <td>0.00</td>\n",
              "      <td>0.00</td>\n",
              "      <td>1.00</td>\n",
              "      <td>0.00</td>\n",
              "    </tr>\n",
              "    <tr>\n",
              "      <th>25%</th>\n",
              "      <td>2572.75</td>\n",
              "      <td>25.00</td>\n",
              "      <td>0.00</td>\n",
              "      <td>140.00</td>\n",
              "      <td>0.00</td>\n",
              "      <td>99.00</td>\n",
              "      <td>1.00</td>\n",
              "      <td>0.00</td>\n",
              "      <td>486.00</td>\n",
              "      <td>0.00</td>\n",
              "      <td>0.00</td>\n",
              "      <td>3.00</td>\n",
              "      <td>0.00</td>\n",
              "    </tr>\n",
              "    <tr>\n",
              "      <th>50%</th>\n",
              "      <td>5174.50</td>\n",
              "      <td>50.00</td>\n",
              "      <td>110.00</td>\n",
              "      <td>250.00</td>\n",
              "      <td>0.00</td>\n",
              "      <td>232.00</td>\n",
              "      <td>3.00</td>\n",
              "      <td>1.00</td>\n",
              "      <td>765.00</td>\n",
              "      <td>0.00</td>\n",
              "      <td>0.00</td>\n",
              "      <td>4.00</td>\n",
              "      <td>0.00</td>\n",
              "    </tr>\n",
              "    <tr>\n",
              "      <th>75%</th>\n",
              "      <td>7779.25</td>\n",
              "      <td>75.00</td>\n",
              "      <td>288.00</td>\n",
              "      <td>405.00</td>\n",
              "      <td>1.00</td>\n",
              "      <td>498.00</td>\n",
              "      <td>6.00</td>\n",
              "      <td>4.00</td>\n",
              "      <td>1173.00</td>\n",
              "      <td>1.00</td>\n",
              "      <td>0.00</td>\n",
              "      <td>5.00</td>\n",
              "      <td>1.00</td>\n",
              "    </tr>\n",
              "    <tr>\n",
              "      <th>max</th>\n",
              "      <td>10363.00</td>\n",
              "      <td>100.00</td>\n",
              "      <td>9851.00</td>\n",
              "      <td>3240.00</td>\n",
              "      <td>13.00</td>\n",
              "      <td>25902.00</td>\n",
              "      <td>607.00</td>\n",
              "      <td>230.00</td>\n",
              "      <td>14576.00</td>\n",
              "      <td>1.00</td>\n",
              "      <td>1.00</td>\n",
              "      <td>10.00</td>\n",
              "      <td>1.00</td>\n",
              "    </tr>\n",
              "  </tbody>\n",
              "</table>\n",
              "</div>\n",
              "      <button class=\"colab-df-convert\" onclick=\"convertToInteractive('df-41c20641-1b2c-43c6-b687-d1b698b4bc3d')\"\n",
              "              title=\"Convert this dataframe to an interactive table.\"\n",
              "              style=\"display:none;\">\n",
              "        \n",
              "  <svg xmlns=\"http://www.w3.org/2000/svg\" height=\"24px\"viewBox=\"0 0 24 24\"\n",
              "       width=\"24px\">\n",
              "    <path d=\"M0 0h24v24H0V0z\" fill=\"none\"/>\n",
              "    <path d=\"M18.56 5.44l.94 2.06.94-2.06 2.06-.94-2.06-.94-.94-2.06-.94 2.06-2.06.94zm-11 1L8.5 8.5l.94-2.06 2.06-.94-2.06-.94L8.5 2.5l-.94 2.06-2.06.94zm10 10l.94 2.06.94-2.06 2.06-.94-2.06-.94-.94-2.06-.94 2.06-2.06.94z\"/><path d=\"M17.41 7.96l-1.37-1.37c-.4-.4-.92-.59-1.43-.59-.52 0-1.04.2-1.43.59L10.3 9.45l-7.72 7.72c-.78.78-.78 2.05 0 2.83L4 21.41c.39.39.9.59 1.41.59.51 0 1.02-.2 1.41-.59l7.78-7.78 2.81-2.81c.8-.78.8-2.07 0-2.86zM5.41 20L4 18.59l7.72-7.72 1.47 1.35L5.41 20z\"/>\n",
              "  </svg>\n",
              "      </button>\n",
              "      \n",
              "  <style>\n",
              "    .colab-df-container {\n",
              "      display:flex;\n",
              "      flex-wrap:wrap;\n",
              "      gap: 12px;\n",
              "    }\n",
              "\n",
              "    .colab-df-convert {\n",
              "      background-color: #E8F0FE;\n",
              "      border: none;\n",
              "      border-radius: 50%;\n",
              "      cursor: pointer;\n",
              "      display: none;\n",
              "      fill: #1967D2;\n",
              "      height: 32px;\n",
              "      padding: 0 0 0 0;\n",
              "      width: 32px;\n",
              "    }\n",
              "\n",
              "    .colab-df-convert:hover {\n",
              "      background-color: #E2EBFA;\n",
              "      box-shadow: 0px 1px 2px rgba(60, 64, 67, 0.3), 0px 1px 3px 1px rgba(60, 64, 67, 0.15);\n",
              "      fill: #174EA6;\n",
              "    }\n",
              "\n",
              "    [theme=dark] .colab-df-convert {\n",
              "      background-color: #3B4455;\n",
              "      fill: #D2E3FC;\n",
              "    }\n",
              "\n",
              "    [theme=dark] .colab-df-convert:hover {\n",
              "      background-color: #434B5C;\n",
              "      box-shadow: 0px 1px 3px 1px rgba(0, 0, 0, 0.15);\n",
              "      filter: drop-shadow(0px 1px 2px rgba(0, 0, 0, 0.3));\n",
              "      fill: #FFFFFF;\n",
              "    }\n",
              "  </style>\n",
              "\n",
              "      <script>\n",
              "        const buttonEl =\n",
              "          document.querySelector('#df-41c20641-1b2c-43c6-b687-d1b698b4bc3d button.colab-df-convert');\n",
              "        buttonEl.style.display =\n",
              "          google.colab.kernel.accessAllowed ? 'block' : 'none';\n",
              "\n",
              "        async function convertToInteractive(key) {\n",
              "          const element = document.querySelector('#df-41c20641-1b2c-43c6-b687-d1b698b4bc3d');\n",
              "          const dataTable =\n",
              "            await google.colab.kernel.invokeFunction('convertToInteractive',\n",
              "                                                     [key], {});\n",
              "          if (!dataTable) return;\n",
              "\n",
              "          const docLinkHtml = 'Like what you see? Visit the ' +\n",
              "            '<a target=\"_blank\" href=https://colab.research.google.com/notebooks/data_table.ipynb>data table notebook</a>'\n",
              "            + ' to learn more about interactive tables.';\n",
              "          element.innerHTML = '';\n",
              "          dataTable['output_type'] = 'display_data';\n",
              "          await google.colab.output.renderOutput(dataTable, element);\n",
              "          const docLink = document.createElement('div');\n",
              "          docLink.innerHTML = docLinkHtml;\n",
              "          element.appendChild(docLink);\n",
              "        }\n",
              "      </script>\n",
              "    </div>\n",
              "  </div>\n",
              "  "
            ],
            "text/plain": [
              "       player_id battle_seq_num  ... battle_level is_tier_ten\n",
              "count  800000.00      800000.00  ...    800000.00   800000.00\n",
              "mean     5177.43          50.35  ...         4.13        0.46\n",
              "std      2996.88          28.86  ...         1.86        0.50\n",
              "min         2.00           1.00  ...         1.00        0.00\n",
              "25%      2572.75          25.00  ...         3.00        0.00\n",
              "50%      5174.50          50.00  ...         4.00        0.00\n",
              "75%      7779.25          75.00  ...         5.00        1.00\n",
              "max     10363.00         100.00  ...        10.00        1.00\n",
              "\n",
              "[8 rows x 13 columns]"
            ]
          },
          "metadata": {},
          "execution_count": 23
        }
      ]
    },
    {
      "cell_type": "code",
      "source": [
        "test.describe().applymap(lambda x: f\"{x:0.2f}\")"
      ],
      "metadata": {
        "colab": {
          "base_uri": "https://localhost:8080/",
          "height": 349
        },
        "id": "9iLtL3b6UWZo",
        "outputId": "97da12ab-2c7e-4280-ab0e-dce4d952f112"
      },
      "execution_count": 5,
      "outputs": [
        {
          "output_type": "execute_result",
          "data": {
            "text/html": [
              "\n",
              "  <div id=\"df-ca0b2f00-4984-4320-8a7e-5ebc023040f0\">\n",
              "    <div class=\"colab-df-container\">\n",
              "      <div>\n",
              "<style scoped>\n",
              "    .dataframe tbody tr th:only-of-type {\n",
              "        vertical-align: middle;\n",
              "    }\n",
              "\n",
              "    .dataframe tbody tr th {\n",
              "        vertical-align: top;\n",
              "    }\n",
              "\n",
              "    .dataframe thead th {\n",
              "        text-align: right;\n",
              "    }\n",
              "</style>\n",
              "<table border=\"1\" class=\"dataframe\">\n",
              "  <thead>\n",
              "    <tr style=\"text-align: right;\">\n",
              "      <th></th>\n",
              "      <th>player_id</th>\n",
              "      <th>battle_seq_num</th>\n",
              "      <th>damage_dealt</th>\n",
              "      <th>damage_received</th>\n",
              "      <th>kills_made</th>\n",
              "      <th>xp</th>\n",
              "      <th>shots</th>\n",
              "      <th>successful_shots</th>\n",
              "      <th>mileage</th>\n",
              "      <th>is_winner</th>\n",
              "      <th>survived</th>\n",
              "      <th>battle_level</th>\n",
              "    </tr>\n",
              "  </thead>\n",
              "  <tbody>\n",
              "    <tr>\n",
              "      <th>count</th>\n",
              "      <td>200000.00</td>\n",
              "      <td>200000.00</td>\n",
              "      <td>200000.00</td>\n",
              "      <td>200000.00</td>\n",
              "      <td>200000.00</td>\n",
              "      <td>200000.00</td>\n",
              "      <td>200000.00</td>\n",
              "      <td>200000.00</td>\n",
              "      <td>200000.00</td>\n",
              "      <td>200000.00</td>\n",
              "      <td>200000.00</td>\n",
              "      <td>200000.00</td>\n",
              "    </tr>\n",
              "    <tr>\n",
              "      <th>mean</th>\n",
              "      <td>5213.06</td>\n",
              "      <td>50.35</td>\n",
              "      <td>232.94</td>\n",
              "      <td>323.70</td>\n",
              "      <td>0.59</td>\n",
              "      <td>429.09</td>\n",
              "      <td>5.61</td>\n",
              "      <td>3.34</td>\n",
              "      <td>901.07</td>\n",
              "      <td>0.45</td>\n",
              "      <td>0.24</td>\n",
              "      <td>4.11</td>\n",
              "    </tr>\n",
              "    <tr>\n",
              "      <th>std</th>\n",
              "      <td>2960.11</td>\n",
              "      <td>28.86</td>\n",
              "      <td>370.06</td>\n",
              "      <td>298.76</td>\n",
              "      <td>1.06</td>\n",
              "      <td>599.99</td>\n",
              "      <td>11.62</td>\n",
              "      <td>6.76</td>\n",
              "      <td>601.52</td>\n",
              "      <td>0.50</td>\n",
              "      <td>0.42</td>\n",
              "      <td>1.82</td>\n",
              "    </tr>\n",
              "    <tr>\n",
              "      <th>min</th>\n",
              "      <td>7.00</td>\n",
              "      <td>1.00</td>\n",
              "      <td>0.00</td>\n",
              "      <td>0.00</td>\n",
              "      <td>0.00</td>\n",
              "      <td>0.00</td>\n",
              "      <td>0.00</td>\n",
              "      <td>0.00</td>\n",
              "      <td>0.00</td>\n",
              "      <td>0.00</td>\n",
              "      <td>0.00</td>\n",
              "      <td>1.00</td>\n",
              "    </tr>\n",
              "    <tr>\n",
              "      <th>25%</th>\n",
              "      <td>2688.75</td>\n",
              "      <td>25.00</td>\n",
              "      <td>0.00</td>\n",
              "      <td>140.00</td>\n",
              "      <td>0.00</td>\n",
              "      <td>101.00</td>\n",
              "      <td>1.00</td>\n",
              "      <td>0.00</td>\n",
              "      <td>487.00</td>\n",
              "      <td>0.00</td>\n",
              "      <td>0.00</td>\n",
              "      <td>3.00</td>\n",
              "    </tr>\n",
              "    <tr>\n",
              "      <th>50%</th>\n",
              "      <td>5234.50</td>\n",
              "      <td>50.00</td>\n",
              "      <td>112.00</td>\n",
              "      <td>250.00</td>\n",
              "      <td>0.00</td>\n",
              "      <td>234.00</td>\n",
              "      <td>3.00</td>\n",
              "      <td>1.00</td>\n",
              "      <td>768.00</td>\n",
              "      <td>0.00</td>\n",
              "      <td>0.00</td>\n",
              "      <td>4.00</td>\n",
              "    </tr>\n",
              "    <tr>\n",
              "      <th>75%</th>\n",
              "      <td>7754.75</td>\n",
              "      <td>75.00</td>\n",
              "      <td>294.00</td>\n",
              "      <td>405.00</td>\n",
              "      <td>1.00</td>\n",
              "      <td>504.00</td>\n",
              "      <td>6.00</td>\n",
              "      <td>4.00</td>\n",
              "      <td>1179.00</td>\n",
              "      <td>1.00</td>\n",
              "      <td>0.00</td>\n",
              "      <td>5.00</td>\n",
              "    </tr>\n",
              "    <tr>\n",
              "      <th>max</th>\n",
              "      <td>10365.00</td>\n",
              "      <td>100.00</td>\n",
              "      <td>9551.00</td>\n",
              "      <td>3000.00</td>\n",
              "      <td>10.00</td>\n",
              "      <td>13814.00</td>\n",
              "      <td>447.00</td>\n",
              "      <td>190.00</td>\n",
              "      <td>10480.00</td>\n",
              "      <td>1.00</td>\n",
              "      <td>1.00</td>\n",
              "      <td>10.00</td>\n",
              "    </tr>\n",
              "  </tbody>\n",
              "</table>\n",
              "</div>\n",
              "      <button class=\"colab-df-convert\" onclick=\"convertToInteractive('df-ca0b2f00-4984-4320-8a7e-5ebc023040f0')\"\n",
              "              title=\"Convert this dataframe to an interactive table.\"\n",
              "              style=\"display:none;\">\n",
              "        \n",
              "  <svg xmlns=\"http://www.w3.org/2000/svg\" height=\"24px\"viewBox=\"0 0 24 24\"\n",
              "       width=\"24px\">\n",
              "    <path d=\"M0 0h24v24H0V0z\" fill=\"none\"/>\n",
              "    <path d=\"M18.56 5.44l.94 2.06.94-2.06 2.06-.94-2.06-.94-.94-2.06-.94 2.06-2.06.94zm-11 1L8.5 8.5l.94-2.06 2.06-.94-2.06-.94L8.5 2.5l-.94 2.06-2.06.94zm10 10l.94 2.06.94-2.06 2.06-.94-2.06-.94-.94-2.06-.94 2.06-2.06.94z\"/><path d=\"M17.41 7.96l-1.37-1.37c-.4-.4-.92-.59-1.43-.59-.52 0-1.04.2-1.43.59L10.3 9.45l-7.72 7.72c-.78.78-.78 2.05 0 2.83L4 21.41c.39.39.9.59 1.41.59.51 0 1.02-.2 1.41-.59l7.78-7.78 2.81-2.81c.8-.78.8-2.07 0-2.86zM5.41 20L4 18.59l7.72-7.72 1.47 1.35L5.41 20z\"/>\n",
              "  </svg>\n",
              "      </button>\n",
              "      \n",
              "  <style>\n",
              "    .colab-df-container {\n",
              "      display:flex;\n",
              "      flex-wrap:wrap;\n",
              "      gap: 12px;\n",
              "    }\n",
              "\n",
              "    .colab-df-convert {\n",
              "      background-color: #E8F0FE;\n",
              "      border: none;\n",
              "      border-radius: 50%;\n",
              "      cursor: pointer;\n",
              "      display: none;\n",
              "      fill: #1967D2;\n",
              "      height: 32px;\n",
              "      padding: 0 0 0 0;\n",
              "      width: 32px;\n",
              "    }\n",
              "\n",
              "    .colab-df-convert:hover {\n",
              "      background-color: #E2EBFA;\n",
              "      box-shadow: 0px 1px 2px rgba(60, 64, 67, 0.3), 0px 1px 3px 1px rgba(60, 64, 67, 0.15);\n",
              "      fill: #174EA6;\n",
              "    }\n",
              "\n",
              "    [theme=dark] .colab-df-convert {\n",
              "      background-color: #3B4455;\n",
              "      fill: #D2E3FC;\n",
              "    }\n",
              "\n",
              "    [theme=dark] .colab-df-convert:hover {\n",
              "      background-color: #434B5C;\n",
              "      box-shadow: 0px 1px 3px 1px rgba(0, 0, 0, 0.15);\n",
              "      filter: drop-shadow(0px 1px 2px rgba(0, 0, 0, 0.3));\n",
              "      fill: #FFFFFF;\n",
              "    }\n",
              "  </style>\n",
              "\n",
              "      <script>\n",
              "        const buttonEl =\n",
              "          document.querySelector('#df-ca0b2f00-4984-4320-8a7e-5ebc023040f0 button.colab-df-convert');\n",
              "        buttonEl.style.display =\n",
              "          google.colab.kernel.accessAllowed ? 'block' : 'none';\n",
              "\n",
              "        async function convertToInteractive(key) {\n",
              "          const element = document.querySelector('#df-ca0b2f00-4984-4320-8a7e-5ebc023040f0');\n",
              "          const dataTable =\n",
              "            await google.colab.kernel.invokeFunction('convertToInteractive',\n",
              "                                                     [key], {});\n",
              "          if (!dataTable) return;\n",
              "\n",
              "          const docLinkHtml = 'Like what you see? Visit the ' +\n",
              "            '<a target=\"_blank\" href=https://colab.research.google.com/notebooks/data_table.ipynb>data table notebook</a>'\n",
              "            + ' to learn more about interactive tables.';\n",
              "          element.innerHTML = '';\n",
              "          dataTable['output_type'] = 'display_data';\n",
              "          await google.colab.output.renderOutput(dataTable, element);\n",
              "          const docLink = document.createElement('div');\n",
              "          docLink.innerHTML = docLinkHtml;\n",
              "          element.appendChild(docLink);\n",
              "        }\n",
              "      </script>\n",
              "    </div>\n",
              "  </div>\n",
              "  "
            ],
            "text/plain": [
              "       player_id battle_seq_num damage_dealt  ...  is_winner   survived battle_level\n",
              "count  200000.00      200000.00    200000.00  ...  200000.00  200000.00    200000.00\n",
              "mean     5213.06          50.35       232.94  ...       0.45       0.24         4.11\n",
              "std      2960.11          28.86       370.06  ...       0.50       0.42         1.82\n",
              "min         7.00           1.00         0.00  ...       0.00       0.00         1.00\n",
              "25%      2688.75          25.00         0.00  ...       0.00       0.00         3.00\n",
              "50%      5234.50          50.00       112.00  ...       0.00       0.00         4.00\n",
              "75%      7754.75          75.00       294.00  ...       1.00       0.00         5.00\n",
              "max     10365.00         100.00      9551.00  ...       1.00       1.00        10.00\n",
              "\n",
              "[8 rows x 12 columns]"
            ]
          },
          "metadata": {},
          "execution_count": 5
        }
      ]
    },
    {
      "cell_type": "code",
      "source": [
        "plt.plot()\n",
        "test['battle_seq_num'].plot(kind='hist', bins=100, figsize=(8, 5))\n",
        "plt.xlabel('battle_seq_num')"
      ],
      "metadata": {
        "colab": {
          "base_uri": "https://localhost:8080/",
          "height": 352
        },
        "id": "jWYQHLogU5y3",
        "outputId": "05336fbc-573c-441c-9871-104090a96874"
      },
      "execution_count": 784,
      "outputs": [
        {
          "output_type": "execute_result",
          "data": {
            "text/plain": [
              "Text(0.5, 0, 'battle_seq_num')"
            ]
          },
          "metadata": {},
          "execution_count": 784
        },
        {
          "output_type": "display_data",
          "data": {
            "image/png": "[encoded data removed]",
            "text/plain": [
              "<Figure size 576x360 with 1 Axes>"
            ]
          },
          "metadata": {
            "needs_background": "light"
          }
        }
      ]
    },
    {
      "cell_type": "code",
      "source": [
        "list_id = test['player_id'].unique().tolist()\n",
        "test = test.sort_values(by=['player_id', 'date', 'battle_seq_num'])\n",
        "list_id.sort()\n",
        "for id in range(len(list_id)):\n",
        "    for i in range(1,101):\n",
        "      if test.battle_seq_num[i-1+100*id] != i:\n",
        "        test.battle_seq_num[i-1+100*id] = i"
      ],
      "metadata": {
        "colab": {
          "base_uri": "https://localhost:8080/"
        },
        "id": "WKkCceydpJVN",
        "outputId": "4d41339b-ba47-4d5d-a6a4-3cdaacd1f37e"
      },
      "execution_count": 24,
      "outputs": [
        {
          "output_type": "stream",
          "name": "stderr",
          "text": [
            "/usr/local/lib/python3.7/dist-packages/ipykernel_launcher.py:7: SettingWithCopyWarning: \n",
            "A value is trying to be set on a copy of a slice from a DataFrame\n",
            "\n",
            "See the caveats in the documentation: https://pandas.pydata.org/pandas-docs/stable/user_guide/indexing.html#returning-a-view-versus-a-copy\n",
            "  import sys\n"
          ]
        }
      ]
    },
    {
      "cell_type": "code",
      "source": [
        "list_id = train['player_id'].unique().tolist()\n",
        "train = train.sort_values(by=['player_id', 'date', 'battle_seq_num'])\n",
        "list_id.sort() \n",
        "for id in range(len(list_id)):\n",
        "    for i in range(1,101):\n",
        "      if train.battle_seq_num[i-1+100*id] != i:\n",
        "        train.battle_seq_num[i-1+100*id] = i"
      ],
      "metadata": {
        "colab": {
          "base_uri": "https://localhost:8080/"
        },
        "id": "wb52Qxorz3bk",
        "outputId": "311b2e6c-e97c-474d-9256-1ad93a89de52"
      },
      "execution_count": 25,
      "outputs": [
        {
          "output_type": "stream",
          "name": "stderr",
          "text": [
            "/usr/local/lib/python3.7/dist-packages/ipykernel_launcher.py:7: SettingWithCopyWarning: \n",
            "A value is trying to be set on a copy of a slice from a DataFrame\n",
            "\n",
            "See the caveats in the documentation: https://pandas.pydata.org/pandas-docs/stable/user_guide/indexing.html#returning-a-view-versus-a-copy\n",
            "  import sys\n"
          ]
        }
      ]
    },
    {
      "cell_type": "code",
      "source": [
        "print('Train data set. Mean value for battle_seq_num: ' + str(statistics.mean(train.battle_seq_num)))\n",
        "print('Test data set. mean value for battle_seq_num: ' + str(statistics.mean(test.battle_seq_num)))"
      ],
      "metadata": {
        "colab": {
          "base_uri": "https://localhost:8080/"
        },
        "id": "TrHFp44shwgj",
        "outputId": "1a60d1c3-5648-4e7c-a352-593f22efb83a"
      },
      "execution_count": 12,
      "outputs": [
        {
          "output_type": "stream",
          "name": "stdout",
          "text": [
            "Train data set. Mean value for battle_seq_num: 50.5\n",
            "Test data set. mean value for battle_seq_num: 50.5\n"
          ]
        }
      ]
    },
    {
      "cell_type": "code",
      "source": [
        "train.to_csv('train.csv')\n",
        "test.to_csv('test.csv')"
      ],
      "metadata": {
        "id": "YyWhtIufBg-j"
      },
      "execution_count": 78,
      "outputs": []
    },
    {
      "cell_type": "markdown",
      "source": [
        "# Aggregate features"
      ],
      "metadata": {
        "id": "3RwY9D4LWyxY"
      }
    },
    {
      "cell_type": "code",
      "source": [
        "train = pd.read_csv('train.csv')\n",
        "test = pd.read_csv('test.csv')"
      ],
      "metadata": {
        "id": "wn9c1DEwrrC0"
      },
      "execution_count": 723,
      "outputs": []
    },
    {
      "cell_type": "code",
      "source": [
        "# train data\n",
        "# get mean\n",
        "train_for_agr = train\n",
        "train_agr = train_for_agr.groupby(by=[\"player_id\"]).mean()\n",
        "\n",
        "list_id = train['player_id'].unique().tolist()\n",
        "train_agr['frequency'] = 0\n",
        "\n",
        "# get frequency\n",
        "label = train[['is_tier_ten','player_id']]\n",
        "label = label.groupby(by=[\"player_id\"]).max()\n",
        "for i in list_id:\n",
        "  train2 = train[train['player_id'] == i]\n",
        "  train2 = train2[['date','battle_seq_num']]\n",
        "  train2_sum = train2.groupby(by=[\"date\"]).count()\n",
        "  train_agr['frequency'][i] = len(train2_sum)\n",
        "\n",
        "# get sum\n",
        "train_for_agr2 = train[['player_id','battle_level','is_winner', 'survived']]\n",
        "train_agr2 = train_for_agr2.groupby(by=[\"player_id\"]).sum()\n",
        "\n",
        "# merge the data\n",
        "train = train_agr.merge(label, on = \"player_id\")\n",
        "train.reset_index()\n",
        "\n",
        "train = train_agr2.merge(train, on = \"player_id\")\n",
        "train = train.reset_index()"
      ],
      "metadata": {
        "colab": {
          "base_uri": "https://localhost:8080/"
        },
        "id": "Uc7oGsizXA8U",
        "outputId": "23301bb5-0410-4593-c09f-9986b81aea3d"
      },
      "execution_count": 724,
      "outputs": [
        {
          "output_type": "stream",
          "name": "stderr",
          "text": [
            "/usr/local/lib/python3.7/dist-packages/ipykernel_launcher.py:16: SettingWithCopyWarning: \n",
            "A value is trying to be set on a copy of a slice from a DataFrame\n",
            "\n",
            "See the caveats in the documentation: https://pandas.pydata.org/pandas-docs/stable/user_guide/indexing.html#returning-a-view-versus-a-copy\n",
            "  app.launch_new_instance()\n"
          ]
        }
      ]
    },
    {
      "cell_type": "code",
      "source": [
        "# test data\n",
        "# get mean\n",
        "test_for_agr = test\n",
        "test_agr = test_for_agr.groupby(by=[\"player_id\"]).mean()\n",
        "\n",
        "list_id = test['player_id'].unique().tolist()\n",
        "test_agr['frequency'] = 0\n",
        "\n",
        "# get frequency\n",
        "label = test[['player_id']]\n",
        "label = label.groupby(by=[\"player_id\"]).max()\n",
        "for i in list_id:\n",
        "  test2 = test[test['player_id'] == i]\n",
        "  test2 = test2[['date','battle_seq_num']]\n",
        "  test2_sum = test2.groupby(by=[\"date\"]).count()\n",
        "  test_agr['frequency'][i] = len(test2_sum)\n",
        "\n",
        "# get sum\n",
        "test_for_agr2 = test[['player_id','battle_level','is_winner', 'survived']]\n",
        "test_agr2 = test_for_agr2.groupby(by=[\"player_id\"]).sum()\n",
        "\n",
        "# merge the data\n",
        "test = test_agr.merge(label, on = \"player_id\")\n",
        "test.reset_index()\n",
        "\n",
        "test = test_agr2.merge(test, on = \"player_id\")\n",
        "test = test.reset_index()"
      ],
      "metadata": {
        "colab": {
          "base_uri": "https://localhost:8080/"
        },
        "id": "vD66VSDmSAf_",
        "outputId": "1c8bcf98-e22d-4764-a7d6-6beecf8c464a"
      },
      "execution_count": 725,
      "outputs": [
        {
          "output_type": "stream",
          "name": "stderr",
          "text": [
            "/usr/local/lib/python3.7/dist-packages/ipykernel_launcher.py:16: SettingWithCopyWarning: \n",
            "A value is trying to be set on a copy of a slice from a DataFrame\n",
            "\n",
            "See the caveats in the documentation: https://pandas.pydata.org/pandas-docs/stable/user_guide/indexing.html#returning-a-view-versus-a-copy\n",
            "  app.launch_new_instance()\n"
          ]
        }
      ]
    },
    {
      "cell_type": "code",
      "source": [
        "train.to_csv('train_mean_max.csv')\n",
        "test.to_csv('test_mean_max.csv')"
      ],
      "metadata": {
        "id": "GdPG7-AEK1NT"
      },
      "execution_count": 726,
      "outputs": []
    },
    {
      "cell_type": "markdown",
      "source": [
        "# Features"
      ],
      "metadata": {
        "id": "ErCjaPJ8K2YD"
      }
    },
    {
      "cell_type": "code",
      "source": [
        "train = pd.read_csv('train_mean_max.csv')\n",
        "test_main = pd.read_csv('test_mean_max.csv')\n",
        "test_main = test_main.drop('Unnamed: 0',axis = 1)"
      ],
      "metadata": {
        "id": "8OPZaq1CS3lo"
      },
      "execution_count": 754,
      "outputs": []
    },
    {
      "cell_type": "code",
      "source": [
        "train['damage_received_per_day'] = train['damage_received']/train['frequency']\n",
        "train['kills_made_per_day'] = train['kills_made']/train['frequency']\n",
        "train['xp_per_day'] = train['xp']/train['frequency']\n",
        "train['shots_per_day'] = train['shots']/train['frequency']\n",
        "train['is_winner_x_per_day'] = train['is_winner_x']/train['frequency']\n",
        "train['survived_x_per_day'] = train['survived_x']/train['frequency']\n",
        "train['battle_level_x_per_day'] = train['battle_level_x']/train['frequency'] \n",
        "\n",
        "test_main['damage_received_per_day'] = test_main['damage_received']/test_main['frequency']\n",
        "test_main['kills_made_per_day'] = test_main['kills_made']/test_main['frequency']\n",
        "test_main['xp_per_day'] = test_main['xp']/test_main['frequency']\n",
        "test_main['shots_per_day'] = test_main['shots']/test_main['frequency']\n",
        "test_main['is_winner_x_per_day'] = test_main['is_winner_x']/test_main['frequency']\n",
        "test_main['survived_x_per_day'] = test_main['survived_x']/test_main['frequency']\n",
        "test_main['battle_level_x_per_day'] = test_main['battle_level_x']/test_main['frequency']\n",
        "\n",
        "test_main = test_main.sort_index(axis = 1)"
      ],
      "metadata": {
        "id": "CaaldoxQUJOv"
      },
      "execution_count": 755,
      "outputs": []
    },
    {
      "cell_type": "code",
      "source": [
        "list_to_drop = ['successful_shots', 'frequency', 'survived_x', 'battle_level_x','Unnamed: 0', 'battle_seq_num', 'is_tier_ten_y', 'is_winner_x']\n",
        "for col in list_to_drop:\n",
        "  train = train.drop(col, axis=1)"
      ],
      "metadata": {
        "id": "M6BE4ogJLFru"
      },
      "execution_count": 756,
      "outputs": []
    },
    {
      "cell_type": "code",
      "source": [
        "train, test = train_test_split(train, train_size=0.75)\n",
        "y = train.is_tier_ten_x\n",
        "X = train.drop('player_id', axis=1)\n",
        "X = X.drop('is_tier_ten_x', axis=1)\n",
        "X = X.sort_index(axis = 1)\n",
        "\n",
        "y_test = test.is_tier_ten_x\n",
        "X_test = test.drop('is_tier_ten_x', axis=1)\n",
        "X_test = X_test.drop('player_id', axis=1)\n",
        "X_test = X_test.sort_index(axis = 1)"
      ],
      "metadata": {
        "id": "HTj-dBIXK1i-"
      },
      "execution_count": 757,
      "outputs": []
    },
    {
      "cell_type": "code",
      "source": [
        "X.dtypes\n",
        "\n",
        "categorical_features_indices = np.where(X.dtypes != float)[0]\n",
        "categorical_features_indices \n",
        "\n",
        "pool = Pool(data=X, label=y, cat_features = categorical_features_indices)\n",
        "\n",
        "data = train_test_split(X, y, test_size=0.2, random_state=0)\n",
        "X_train, X_validation, y_train, y_validation = data\n",
        "\n",
        "train_pool = Pool(\n",
        "    data=X_train, \n",
        "    label=y_train,   cat_features = categorical_features_indices)\n",
        "\n",
        "validation_pool = Pool(\n",
        "    data=X_validation, \n",
        "    label=y_validation,     cat_features = categorical_features_indices)\n",
        "\n",
        "model = CatBoostClassifier(\n",
        "    iterations = 100,\n",
        "     verbose = 100, \n",
        "    cat_features = categorical_features_indices\n",
        ")\n",
        "model.fit(train_pool, eval_set=validation_pool);"
      ],
      "metadata": {
        "colab": {
          "base_uri": "https://localhost:8080/"
        },
        "id": "lEzeXjmJZC_6",
        "outputId": "a8e8e663-a30c-41b7-bca0-f4e78c48f3e4"
      },
      "execution_count": 758,
      "outputs": [
        {
          "output_type": "stream",
          "name": "stdout",
          "text": [
            "Learning rate set to 0.127109\n",
            "0:\tlearn: 0.6828553\ttest: 0.6842461\tbest: 0.6842461 (0)\ttotal: 5.14ms\tremaining: 509ms\n",
            "99:\tlearn: 0.5598384\ttest: 0.6352634\tbest: 0.6335133 (76)\ttotal: 444ms\tremaining: 0us\n",
            "\n",
            "bestTest = 0.6335133424\n",
            "bestIteration = 76\n",
            "\n",
            "Shrink model to first 77 iterations.\n"
          ]
        }
      ]
    },
    {
      "cell_type": "code",
      "source": [
        "eval_pool = Pool(X_validation, y_validation, cat_features = categorical_features_indices)\n",
        "(fpr, tpr, thresholds) = get_roc_curve(model, eval_pool)\n",
        "optimal_idx = np.argmax(tpr - fpr)\n",
        "optimal_threshold = thresholds[optimal_idx]\n",
        "print(f'Optimal threshold: {optimal_threshold}')"
      ],
      "metadata": {
        "colab": {
          "base_uri": "https://localhost:8080/"
        },
        "id": "lz3XYD_XZDCP",
        "outputId": "443e2d0a-e8e7-4656-8f77-65ce877e1e2d"
      },
      "execution_count": 759,
      "outputs": [
        {
          "output_type": "stream",
          "name": "stdout",
          "text": [
            "Optimal threshold: 0.4448942072201998\n"
          ]
        }
      ]
    },
    {
      "cell_type": "code",
      "source": [
        "probability_class_1 = model.predict_proba(X_test)[:, 1]\n",
        "list2 = probability_class_1.tolist()\n",
        "for i in range(len(list2)):\n",
        "  if list2[i] > optimal_threshold:\n",
        "    list2[i] = 1\n",
        "  else:\n",
        "    list2[i] = 0   \n",
        "    \n",
        "acc_score = accuracy_score(list2, y_test)\n",
        "print(f'Accuracy:' + str(acc_score))"
      ],
      "metadata": {
        "colab": {
          "base_uri": "https://localhost:8080/"
        },
        "id": "z-6XwSoKa1Cj",
        "outputId": "fcd409cb-9365-4294-9b75-c2707d9d8e62"
      },
      "execution_count": 760,
      "outputs": [
        {
          "output_type": "stream",
          "name": "stdout",
          "text": [
            "Accuracy:0.6315\n"
          ]
        }
      ]
    },
    {
      "cell_type": "code",
      "source": [
        "np.array(model.get_feature_importance(prettified=True))"
      ],
      "metadata": {
        "colab": {
          "base_uri": "https://localhost:8080/"
        },
        "id": "6UFFu0bVa1Fq",
        "outputId": "be48406b-2d2d-4b98-84f1-daed72276d15"
      },
      "execution_count": 761,
      "outputs": [
        {
          "output_type": "execute_result",
          "data": {
            "text/plain": [
              "array([['damage_received', 16.299526015079245],\n",
              "       ['battle_level_y', 13.123554780352842],\n",
              "       ['shots', 6.446892860608268],\n",
              "       ['Unnamed: 0.1', 5.896422109487564],\n",
              "       ['battle_level_x_per_day', 5.637059268445425],\n",
              "       ['is_winner_x_per_day', 5.446045112135893],\n",
              "       ['damage_received_per_day', 5.391081295617651],\n",
              "       ['mileage', 5.308535277291752],\n",
              "       ['shots_per_day', 5.24287324164155],\n",
              "       ['xp', 5.029518370044711],\n",
              "       ['damage_dealt', 4.598109095616193],\n",
              "       ['survived_x_per_day', 4.368779888057639],\n",
              "       ['kills_made', 4.318694220056079],\n",
              "       ['kills_made_per_day', 3.40002149576088],\n",
              "       ['survived_y', 3.2701072765847927],\n",
              "       ['xp_per_day', 3.182485723257583],\n",
              "       ['is_winner_y', 3.040293969961959]], dtype=object)"
            ]
          },
          "metadata": {},
          "execution_count": 761
        }
      ]
    },
    {
      "cell_type": "code",
      "source": [
        "np.array(model.get_feature_importance(\n",
        "    data=train_pool, \n",
        "    type='LossFunctionChange', \n",
        "    prettified=True\n",
        "))"
      ],
      "metadata": {
        "colab": {
          "base_uri": "https://localhost:8080/"
        },
        "id": "j_okaNsYpLMl",
        "outputId": "b6ca833b-470e-4c72-b581-e05a9300ac62"
      },
      "execution_count": 762,
      "outputs": [
        {
          "output_type": "execute_result",
          "data": {
            "text/plain": [
              "array([['damage_received', 0.013562337638232225],\n",
              "       ['battle_level_y', 0.008289270284579597],\n",
              "       ['damage_received_per_day', 0.0056003734512142245],\n",
              "       ['Unnamed: 0.1', 0.004698287620114705],\n",
              "       ['xp', 0.004387439954151695],\n",
              "       ['shots', 0.0038843004091575484],\n",
              "       ['is_winner_x_per_day', 0.003451203145029891],\n",
              "       ['battle_level_x_per_day', 0.0033266735501672473],\n",
              "       ['mileage', 0.003307730770473638],\n",
              "       ['shots_per_day', 0.003143933065510751],\n",
              "       ['survived_x_per_day', 0.0028902339340713956],\n",
              "       ['damage_dealt', 0.002821033158807218],\n",
              "       ['kills_made', 0.0028010314109689904],\n",
              "       ['kills_made_per_day', 0.0026048087939206654],\n",
              "       ['survived_y', 0.0023161991959730344],\n",
              "       ['xp_per_day', 0.002252259322504946],\n",
              "       ['is_winner_y', 0.0019095890039502184]], dtype=object)"
            ]
          },
          "metadata": {},
          "execution_count": 762
        }
      ]
    },
    {
      "cell_type": "code",
      "source": [
        "# prediction\n",
        "probability_class_1 = model.predict_proba(test_main)[:, 1]\n",
        "list3 = probability_class_1.tolist()\n",
        "for i in range(len(list3)):\n",
        "  if list3[i] > optimal_threshold:\n",
        "    list3[i] = 1\n",
        "  else:\n",
        "    list3[i] = 0   "
      ],
      "metadata": {
        "id": "O9CQs2rSpLQG"
      },
      "execution_count": null,
      "outputs": []
    },
    {
      "cell_type": "code",
      "source": [
        "list3[:5]"
      ],
      "metadata": {
        "colab": {
          "base_uri": "https://localhost:8080/"
        },
        "id": "pv1cWlvDVph1",
        "outputId": "b9a12044-b88b-42b6-d9cf-d40db727df75"
      },
      "execution_count": 779,
      "outputs": [
        {
          "output_type": "execute_result",
          "data": {
            "text/plain": [
              "[1, 1, 0, 0, 0]"
            ]
          },
          "metadata": {},
          "execution_count": 779
        }
      ]
    },
    {
      "cell_type": "code",
      "source": [
        "prediction = test_main[['player_id']]\n",
        "prediction['prediction'] = 0\n",
        "prediction['prediction'] = list3\n",
        "prediction.to_csv('prediction.csv')"
      ],
      "metadata": {
        "colab": {
          "base_uri": "https://localhost:8080/"
        },
        "id": "kYgBt8a7UYTp",
        "outputId": "576acd1a-63f8-4046-ad0e-1aef3788a727"
      },
      "execution_count": 782,
      "outputs": [
        {
          "output_type": "stream",
          "name": "stderr",
          "text": [
            "/usr/local/lib/python3.7/dist-packages/ipykernel_launcher.py:2: SettingWithCopyWarning: \n",
            "A value is trying to be set on a copy of a slice from a DataFrame.\n",
            "Try using .loc[row_indexer,col_indexer] = value instead\n",
            "\n",
            "See the caveats in the documentation: https://pandas.pydata.org/pandas-docs/stable/user_guide/indexing.html#returning-a-view-versus-a-copy\n",
            "  \n",
            "/usr/local/lib/python3.7/dist-packages/ipykernel_launcher.py:3: SettingWithCopyWarning: \n",
            "A value is trying to be set on a copy of a slice from a DataFrame.\n",
            "Try using .loc[row_indexer,col_indexer] = value instead\n",
            "\n",
            "See the caveats in the documentation: https://pandas.pydata.org/pandas-docs/stable/user_guide/indexing.html#returning-a-view-versus-a-copy\n",
            "  This is separate from the ipykernel package so we can avoid doing imports until\n"
          ]
        }
      ]
    },
    {
      "cell_type": "markdown",
      "source": [
        ""
      ],
      "metadata": {
        "id": "v8oSk3-G0VWM"
      }
    }
  ]
}